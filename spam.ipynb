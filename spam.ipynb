{
 "cells": [
  {
   "cell_type": "code",
   "execution_count": 1,
   "metadata": {},
   "outputs": [],
   "source": [
    "import pandas as pd\n",
    "import numpy as np"
   ]
  },
  {
   "cell_type": "code",
   "execution_count": 2,
   "metadata": {},
   "outputs": [],
   "source": [
    "dataset=pd.read_csv('spam.csv')"
   ]
  },
  {
   "cell_type": "code",
   "execution_count": 3,
   "metadata": {},
   "outputs": [
    {
     "data": {
      "text/html": [
       "<div>\n",
       "<style scoped>\n",
       "    .dataframe tbody tr th:only-of-type {\n",
       "        vertical-align: middle;\n",
       "    }\n",
       "\n",
       "    .dataframe tbody tr th {\n",
       "        vertical-align: top;\n",
       "    }\n",
       "\n",
       "    .dataframe thead th {\n",
       "        text-align: right;\n",
       "    }\n",
       "</style>\n",
       "<table border=\"1\" class=\"dataframe\">\n",
       "  <thead>\n",
       "    <tr style=\"text-align: right;\">\n",
       "      <th></th>\n",
       "      <th>Label</th>\n",
       "      <th>EmailText</th>\n",
       "    </tr>\n",
       "  </thead>\n",
       "  <tbody>\n",
       "    <tr>\n",
       "      <td>0</td>\n",
       "      <td>ham</td>\n",
       "      <td>Go until jurong point, crazy.. Available only ...</td>\n",
       "    </tr>\n",
       "    <tr>\n",
       "      <td>1</td>\n",
       "      <td>ham</td>\n",
       "      <td>Ok lar... Joking wif u oni...</td>\n",
       "    </tr>\n",
       "    <tr>\n",
       "      <td>2</td>\n",
       "      <td>spam</td>\n",
       "      <td>Free entry in 2 a wkly comp to win FA Cup fina...</td>\n",
       "    </tr>\n",
       "    <tr>\n",
       "      <td>3</td>\n",
       "      <td>ham</td>\n",
       "      <td>U dun say so early hor... U c already then say...</td>\n",
       "    </tr>\n",
       "    <tr>\n",
       "      <td>4</td>\n",
       "      <td>ham</td>\n",
       "      <td>Nah I don't think he goes to usf, he lives aro...</td>\n",
       "    </tr>\n",
       "  </tbody>\n",
       "</table>\n",
       "</div>"
      ],
      "text/plain": [
       "  Label                                          EmailText\n",
       "0   ham  Go until jurong point, crazy.. Available only ...\n",
       "1   ham                      Ok lar... Joking wif u oni...\n",
       "2  spam  Free entry in 2 a wkly comp to win FA Cup fina...\n",
       "3   ham  U dun say so early hor... U c already then say...\n",
       "4   ham  Nah I don't think he goes to usf, he lives aro..."
      ]
     },
     "execution_count": 3,
     "metadata": {},
     "output_type": "execute_result"
    }
   ],
   "source": [
    "dataset.head()"
   ]
  },
  {
   "cell_type": "code",
   "execution_count": 4,
   "metadata": {},
   "outputs": [
    {
     "data": {
      "text/plain": [
       "Label        0\n",
       "EmailText    0\n",
       "dtype: int64"
      ]
     },
     "execution_count": 4,
     "metadata": {},
     "output_type": "execute_result"
    }
   ],
   "source": [
    "dataset.isnull().sum()"
   ]
  },
  {
   "cell_type": "code",
   "execution_count": 5,
   "metadata": {},
   "outputs": [
    {
     "data": {
      "text/plain": [
       "(5572, 2)"
      ]
     },
     "execution_count": 5,
     "metadata": {},
     "output_type": "execute_result"
    }
   ],
   "source": [
    "dataset.shape"
   ]
  },
  {
   "cell_type": "code",
   "execution_count": 6,
   "metadata": {},
   "outputs": [
    {
     "data": {
      "text/plain": [
       "(5572,)"
      ]
     },
     "execution_count": 6,
     "metadata": {},
     "output_type": "execute_result"
    }
   ],
   "source": [
    "from sklearn.preprocessing import LabelEncoder\n",
    "le=LabelEncoder()\n",
    "dataset.Label=le.fit_transform(dataset.Label)\n",
    "dataset.Label.shape"
   ]
  },
  {
   "cell_type": "code",
   "execution_count": 7,
   "metadata": {},
   "outputs": [
    {
     "data": {
      "text/html": [
       "<div>\n",
       "<style scoped>\n",
       "    .dataframe tbody tr th:only-of-type {\n",
       "        vertical-align: middle;\n",
       "    }\n",
       "\n",
       "    .dataframe tbody tr th {\n",
       "        vertical-align: top;\n",
       "    }\n",
       "\n",
       "    .dataframe thead th {\n",
       "        text-align: right;\n",
       "    }\n",
       "</style>\n",
       "<table border=\"1\" class=\"dataframe\">\n",
       "  <thead>\n",
       "    <tr style=\"text-align: right;\">\n",
       "      <th></th>\n",
       "      <th>Label</th>\n",
       "      <th>EmailText</th>\n",
       "    </tr>\n",
       "  </thead>\n",
       "  <tbody>\n",
       "    <tr>\n",
       "      <td>0</td>\n",
       "      <td>0</td>\n",
       "      <td>Go until jurong point, crazy.. Available only ...</td>\n",
       "    </tr>\n",
       "    <tr>\n",
       "      <td>1</td>\n",
       "      <td>0</td>\n",
       "      <td>Ok lar... Joking wif u oni...</td>\n",
       "    </tr>\n",
       "    <tr>\n",
       "      <td>2</td>\n",
       "      <td>1</td>\n",
       "      <td>Free entry in 2 a wkly comp to win FA Cup fina...</td>\n",
       "    </tr>\n",
       "    <tr>\n",
       "      <td>3</td>\n",
       "      <td>0</td>\n",
       "      <td>U dun say so early hor... U c already then say...</td>\n",
       "    </tr>\n",
       "    <tr>\n",
       "      <td>4</td>\n",
       "      <td>0</td>\n",
       "      <td>Nah I don't think he goes to usf, he lives aro...</td>\n",
       "    </tr>\n",
       "  </tbody>\n",
       "</table>\n",
       "</div>"
      ],
      "text/plain": [
       "   Label                                          EmailText\n",
       "0      0  Go until jurong point, crazy.. Available only ...\n",
       "1      0                      Ok lar... Joking wif u oni...\n",
       "2      1  Free entry in 2 a wkly comp to win FA Cup fina...\n",
       "3      0  U dun say so early hor... U c already then say...\n",
       "4      0  Nah I don't think he goes to usf, he lives aro..."
      ]
     },
     "execution_count": 7,
     "metadata": {},
     "output_type": "execute_result"
    }
   ],
   "source": [
    "dataset.head()"
   ]
  },
  {
   "cell_type": "code",
   "execution_count": 8,
   "metadata": {},
   "outputs": [],
   "source": [
    "import re\n",
    "from nltk.corpus import stopwords\n",
    "from nltk.stem.porter import PorterStemmer\n",
    "ps=PorterStemmer()"
   ]
  },
  {
   "cell_type": "code",
   "execution_count": 9,
   "metadata": {},
   "outputs": [
    {
     "data": {
      "text/plain": [
       "'Go until jurong point, crazy.. Available only in bugis n great world la e buffet... Cine there got amore wat...'"
      ]
     },
     "execution_count": 9,
     "metadata": {},
     "output_type": "execute_result"
    }
   ],
   "source": [
    "dataset.EmailText[0]"
   ]
  },
  {
   "cell_type": "code",
   "execution_count": 10,
   "metadata": {},
   "outputs": [],
   "source": [
    "def remove():\n",
    "    corpus=[]\n",
    "    for i in range(0,5572):\n",
    "        text=re.sub('[^a-zA-Z]',' ',dataset.EmailText[i])\n",
    "        text=text.lower()\n",
    "        text=text.split()\n",
    "        text=[ps.stem(word) for word in text if not word in set(stopwords.words('english'))]\n",
    "        text=' '.join(text)\n",
    "        corpus.append(text)\n",
    "    return corpus"
   ]
  },
  {
   "cell_type": "code",
   "execution_count": 11,
   "metadata": {},
   "outputs": [],
   "source": [
    "corpus=remove()"
   ]
  },
  {
   "cell_type": "code",
   "execution_count": 12,
   "metadata": {},
   "outputs": [
    {
     "data": {
      "text/plain": [
       "['go jurong point crazi avail bugi n great world la e buffet cine got amor wat',\n",
       " 'ok lar joke wif u oni',\n",
       " 'free entri wkli comp win fa cup final tkt st may text fa receiv entri question std txt rate c appli',\n",
       " 'u dun say earli hor u c alreadi say',\n",
       " 'nah think goe usf live around though',\n",
       " 'freemsg hey darl week word back like fun still tb ok xxx std chg send rcv',\n",
       " 'even brother like speak treat like aid patent',\n",
       " 'per request mell mell oru minnaminungint nurungu vettam set callertun caller press copi friend callertun',\n",
       " 'winner valu network custom select receivea prize reward claim call claim code kl valid hour',\n",
       " 'mobil month u r entitl updat latest colour mobil camera free call mobil updat co free',\n",
       " 'gonna home soon want talk stuff anymor tonight k cri enough today',\n",
       " 'six chanc win cash pound txt csh send cost p day day tsandc appli repli hl info',\n",
       " 'urgent week free membership prize jackpot txt word claim c www dbuk net lccltd pobox ldnw rw',\n",
       " 'search right word thank breather promis wont take help grant fulfil promis wonder bless time',\n",
       " 'date sunday']"
      ]
     },
     "execution_count": 12,
     "metadata": {},
     "output_type": "execute_result"
    }
   ],
   "source": [
    "corpus[0:15]"
   ]
  },
  {
   "cell_type": "code",
   "execution_count": 13,
   "metadata": {},
   "outputs": [
    {
     "data": {
      "text/plain": [
       "5572"
      ]
     },
     "execution_count": 13,
     "metadata": {},
     "output_type": "execute_result"
    }
   ],
   "source": [
    "len(corpus)"
   ]
  },
  {
   "cell_type": "code",
   "execution_count": 14,
   "metadata": {},
   "outputs": [],
   "source": [
    "from sklearn.feature_extraction.text import CountVectorizer\n",
    "cv=CountVectorizer(max_features=200)\n",
    "x=cv.fit_transform(corpus).toarray()\n",
    "y=dataset.Label"
   ]
  },
  {
   "cell_type": "code",
   "execution_count": 15,
   "metadata": {},
   "outputs": [
    {
     "data": {
      "text/plain": [
       "(5572, 200)"
      ]
     },
     "execution_count": 15,
     "metadata": {},
     "output_type": "execute_result"
    }
   ],
   "source": [
    "x.shape"
   ]
  },
  {
   "cell_type": "code",
   "execution_count": 16,
   "metadata": {},
   "outputs": [
    {
     "data": {
      "text/plain": [
       "0     0\n",
       "1     0\n",
       "2     1\n",
       "3     0\n",
       "4     0\n",
       "5     1\n",
       "6     0\n",
       "7     0\n",
       "8     1\n",
       "9     1\n",
       "10    0\n",
       "Name: Label, dtype: int32"
      ]
     },
     "execution_count": 16,
     "metadata": {},
     "output_type": "execute_result"
    }
   ],
   "source": [
    "y[0:11]"
   ]
  },
  {
   "cell_type": "code",
   "execution_count": 17,
   "metadata": {},
   "outputs": [],
   "source": [
    "from sklearn.model_selection import train_test_split\n",
    "xtrain,xtest,ytrain,ytest=train_test_split(x,y,test_size=0.2,random_state=0)"
   ]
  },
  {
   "cell_type": "code",
   "execution_count": 18,
   "metadata": {},
   "outputs": [
    {
     "data": {
      "text/plain": [
       "(4457,)"
      ]
     },
     "execution_count": 18,
     "metadata": {},
     "output_type": "execute_result"
    }
   ],
   "source": [
    "ytrain.shape"
   ]
  },
  {
   "cell_type": "code",
   "execution_count": 19,
   "metadata": {},
   "outputs": [
    {
     "name": "stderr",
     "output_type": "stream",
     "text": [
      "Using TensorFlow backend.\n",
      "c:\\users\\vinod\\appdata\\local\\programs\\python\\python36\\lib\\site-packages\\tensorflow\\python\\framework\\dtypes.py:516: FutureWarning: Passing (type, 1) or '1type' as a synonym of type is deprecated; in a future version of numpy, it will be understood as (type, (1,)) / '(1,)type'.\n",
      "  _np_qint8 = np.dtype([(\"qint8\", np.int8, 1)])\n",
      "c:\\users\\vinod\\appdata\\local\\programs\\python\\python36\\lib\\site-packages\\tensorflow\\python\\framework\\dtypes.py:517: FutureWarning: Passing (type, 1) or '1type' as a synonym of type is deprecated; in a future version of numpy, it will be understood as (type, (1,)) / '(1,)type'.\n",
      "  _np_quint8 = np.dtype([(\"quint8\", np.uint8, 1)])\n",
      "c:\\users\\vinod\\appdata\\local\\programs\\python\\python36\\lib\\site-packages\\tensorflow\\python\\framework\\dtypes.py:518: FutureWarning: Passing (type, 1) or '1type' as a synonym of type is deprecated; in a future version of numpy, it will be understood as (type, (1,)) / '(1,)type'.\n",
      "  _np_qint16 = np.dtype([(\"qint16\", np.int16, 1)])\n",
      "c:\\users\\vinod\\appdata\\local\\programs\\python\\python36\\lib\\site-packages\\tensorflow\\python\\framework\\dtypes.py:519: FutureWarning: Passing (type, 1) or '1type' as a synonym of type is deprecated; in a future version of numpy, it will be understood as (type, (1,)) / '(1,)type'.\n",
      "  _np_quint16 = np.dtype([(\"quint16\", np.uint16, 1)])\n",
      "c:\\users\\vinod\\appdata\\local\\programs\\python\\python36\\lib\\site-packages\\tensorflow\\python\\framework\\dtypes.py:520: FutureWarning: Passing (type, 1) or '1type' as a synonym of type is deprecated; in a future version of numpy, it will be understood as (type, (1,)) / '(1,)type'.\n",
      "  _np_qint32 = np.dtype([(\"qint32\", np.int32, 1)])\n",
      "c:\\users\\vinod\\appdata\\local\\programs\\python\\python36\\lib\\site-packages\\tensorflow\\python\\framework\\dtypes.py:525: FutureWarning: Passing (type, 1) or '1type' as a synonym of type is deprecated; in a future version of numpy, it will be understood as (type, (1,)) / '(1,)type'.\n",
      "  np_resource = np.dtype([(\"resource\", np.ubyte, 1)])\n",
      "c:\\users\\vinod\\appdata\\local\\programs\\python\\python36\\lib\\site-packages\\tensorboard\\compat\\tensorflow_stub\\dtypes.py:541: FutureWarning: Passing (type, 1) or '1type' as a synonym of type is deprecated; in a future version of numpy, it will be understood as (type, (1,)) / '(1,)type'.\n",
      "  _np_qint8 = np.dtype([(\"qint8\", np.int8, 1)])\n",
      "c:\\users\\vinod\\appdata\\local\\programs\\python\\python36\\lib\\site-packages\\tensorboard\\compat\\tensorflow_stub\\dtypes.py:542: FutureWarning: Passing (type, 1) or '1type' as a synonym of type is deprecated; in a future version of numpy, it will be understood as (type, (1,)) / '(1,)type'.\n",
      "  _np_quint8 = np.dtype([(\"quint8\", np.uint8, 1)])\n",
      "c:\\users\\vinod\\appdata\\local\\programs\\python\\python36\\lib\\site-packages\\tensorboard\\compat\\tensorflow_stub\\dtypes.py:543: FutureWarning: Passing (type, 1) or '1type' as a synonym of type is deprecated; in a future version of numpy, it will be understood as (type, (1,)) / '(1,)type'.\n",
      "  _np_qint16 = np.dtype([(\"qint16\", np.int16, 1)])\n",
      "c:\\users\\vinod\\appdata\\local\\programs\\python\\python36\\lib\\site-packages\\tensorboard\\compat\\tensorflow_stub\\dtypes.py:544: FutureWarning: Passing (type, 1) or '1type' as a synonym of type is deprecated; in a future version of numpy, it will be understood as (type, (1,)) / '(1,)type'.\n",
      "  _np_quint16 = np.dtype([(\"quint16\", np.uint16, 1)])\n",
      "c:\\users\\vinod\\appdata\\local\\programs\\python\\python36\\lib\\site-packages\\tensorboard\\compat\\tensorflow_stub\\dtypes.py:545: FutureWarning: Passing (type, 1) or '1type' as a synonym of type is deprecated; in a future version of numpy, it will be understood as (type, (1,)) / '(1,)type'.\n",
      "  _np_qint32 = np.dtype([(\"qint32\", np.int32, 1)])\n",
      "c:\\users\\vinod\\appdata\\local\\programs\\python\\python36\\lib\\site-packages\\tensorboard\\compat\\tensorflow_stub\\dtypes.py:550: FutureWarning: Passing (type, 1) or '1type' as a synonym of type is deprecated; in a future version of numpy, it will be understood as (type, (1,)) / '(1,)type'.\n",
      "  np_resource = np.dtype([(\"resource\", np.ubyte, 1)])\n"
     ]
    }
   ],
   "source": [
    "from keras.utils import np_utils\n"
   ]
  },
  {
   "cell_type": "code",
   "execution_count": 20,
   "metadata": {},
   "outputs": [],
   "source": [
    "y_c=np_utils.to_categorical(ytrain)"
   ]
  },
  {
   "cell_type": "code",
   "execution_count": 21,
   "metadata": {},
   "outputs": [],
   "source": [
    "ytest_c=np_utils.to_categorical(ytest)"
   ]
  },
  {
   "cell_type": "code",
   "execution_count": 22,
   "metadata": {},
   "outputs": [
    {
     "data": {
      "text/plain": [
       "4456    0\n",
       "690     0\n",
       "944     0\n",
       "3768    0\n",
       "1189    0\n",
       "       ..\n",
       "2906    0\n",
       "1270    0\n",
       "3944    0\n",
       "2124    0\n",
       "253     0\n",
       "Name: Label, Length: 1115, dtype: int32"
      ]
     },
     "execution_count": 22,
     "metadata": {},
     "output_type": "execute_result"
    }
   ],
   "source": [
    "ytest"
   ]
  },
  {
   "cell_type": "code",
   "execution_count": 23,
   "metadata": {},
   "outputs": [
    {
     "data": {
      "text/plain": [
       "array([[1., 0.],\n",
       "       [1., 0.],\n",
       "       [1., 0.],\n",
       "       ...,\n",
       "       [1., 0.],\n",
       "       [1., 0.],\n",
       "       [1., 0.]], dtype=float32)"
      ]
     },
     "execution_count": 23,
     "metadata": {},
     "output_type": "execute_result"
    }
   ],
   "source": [
    "ytest_c"
   ]
  },
  {
   "cell_type": "code",
   "execution_count": 24,
   "metadata": {},
   "outputs": [
    {
     "data": {
      "text/plain": [
       "array([[0, 0, 0, ..., 0, 0, 0],\n",
       "       [0, 0, 0, ..., 0, 0, 0],\n",
       "       [0, 0, 0, ..., 0, 0, 0],\n",
       "       ...,\n",
       "       [0, 0, 0, ..., 0, 0, 0],\n",
       "       [0, 0, 0, ..., 1, 0, 0],\n",
       "       [0, 0, 0, ..., 0, 0, 0]], dtype=int64)"
      ]
     },
     "execution_count": 24,
     "metadata": {},
     "output_type": "execute_result"
    }
   ],
   "source": [
    "xtrain"
   ]
  },
  {
   "cell_type": "code",
   "execution_count": 25,
   "metadata": {},
   "outputs": [
    {
     "data": {
      "text/plain": [
       "(4457, 200)"
      ]
     },
     "execution_count": 25,
     "metadata": {},
     "output_type": "execute_result"
    }
   ],
   "source": [
    "xtrain.shape"
   ]
  },
  {
   "cell_type": "code",
   "execution_count": 26,
   "metadata": {},
   "outputs": [
    {
     "name": "stdout",
     "output_type": "stream",
     "text": [
      "200\n",
      "200\n",
      "200\n",
      "200\n",
      "200\n",
      "200\n",
      "200\n",
      "200\n",
      "200\n",
      "200\n"
     ]
    }
   ],
   "source": [
    "for i in range(10):\n",
    "    print(len(xtrain[i]))"
   ]
  },
  {
   "cell_type": "code",
   "execution_count": null,
   "metadata": {},
   "outputs": [],
   "source": []
  },
  {
   "cell_type": "code",
   "execution_count": 27,
   "metadata": {},
   "outputs": [
    {
     "data": {
      "text/plain": [
       "4456    0\n",
       "690     0\n",
       "944     0\n",
       "3768    0\n",
       "1189    0\n",
       "4437    0\n",
       "3587    0\n",
       "1982    0\n",
       "2038    0\n",
       "2078    1\n",
       "4224    0\n",
       "Name: Label, dtype: int32"
      ]
     },
     "execution_count": 27,
     "metadata": {},
     "output_type": "execute_result"
    }
   ],
   "source": [
    "ytest[0:11]"
   ]
  },
  {
   "cell_type": "markdown",
   "metadata": {},
   "source": [
    "## Model"
   ]
  },
  {
   "cell_type": "markdown",
   "metadata": {},
   "source": [
    "## 1. Logistic "
   ]
  },
  {
   "cell_type": "code",
   "execution_count": 28,
   "metadata": {},
   "outputs": [
    {
     "name": "stderr",
     "output_type": "stream",
     "text": [
      "c:\\users\\vinod\\appdata\\local\\programs\\python\\python36\\lib\\site-packages\\sklearn\\linear_model\\logistic.py:432: FutureWarning: Default solver will be changed to 'lbfgs' in 0.22. Specify a solver to silence this warning.\n",
      "  FutureWarning)\n"
     ]
    },
    {
     "data": {
      "text/plain": [
       "LogisticRegression(C=1.0, class_weight=None, dual=False, fit_intercept=True,\n",
       "                   intercept_scaling=1, l1_ratio=None, max_iter=100,\n",
       "                   multi_class='warn', n_jobs=None, penalty='l2',\n",
       "                   random_state=None, solver='warn', tol=0.0001, verbose=0,\n",
       "                   warm_start=False)"
      ]
     },
     "execution_count": 28,
     "metadata": {},
     "output_type": "execute_result"
    }
   ],
   "source": [
    "from sklearn.linear_model import LogisticRegression\n",
    "classifier=LogisticRegression()\n",
    "classifier.fit(xtrain,ytrain)"
   ]
  },
  {
   "cell_type": "code",
   "execution_count": 29,
   "metadata": {},
   "outputs": [
    {
     "data": {
      "text/plain": [
       "array([0, 0, 0, ..., 0, 0, 0])"
      ]
     },
     "execution_count": 29,
     "metadata": {},
     "output_type": "execute_result"
    }
   ],
   "source": [
    "ypred=classifier.predict(xtest)\n",
    "ypred"
   ]
  },
  {
   "cell_type": "code",
   "execution_count": 30,
   "metadata": {},
   "outputs": [
    {
     "data": {
      "text/plain": [
       "array([0, 0, 0, 0, 0, 0, 0, 0, 0, 0, 0, 0, 0, 0, 0, 0, 0, 0, 0, 0, 0, 0,\n",
       "       0, 0, 0, 1, 0, 0, 0, 0, 0, 0, 0, 0, 0, 0, 0, 0, 0, 0, 0, 0, 0, 0,\n",
       "       0, 0, 0, 0, 0, 0, 0, 0, 0, 0, 0, 0, 0, 0, 0, 0, 0, 0, 0, 0, 0, 0,\n",
       "       0, 0, 0, 0, 0, 0, 0, 0, 0, 0, 0, 1, 0, 0, 0, 0, 0, 0, 0, 0, 0, 0,\n",
       "       0, 0, 0, 0, 0, 0, 0, 0, 0, 0, 0, 0, 0, 0, 0, 0, 0, 0, 0, 0, 0, 0,\n",
       "       0, 0, 0, 0, 0, 0, 0, 0, 0, 0, 0, 0, 0, 0, 0, 1, 0, 0, 0, 0, 0, 0,\n",
       "       0, 0, 0, 0, 0, 0, 0, 0, 0, 0, 0, 0, 0, 0, 0, 0, 0, 0, 0, 0, 0, 0,\n",
       "       0, 0, 0, 0, 0, 0, 0, 0, 0, 0, 0, 0, 0, 0, 0, 0, 0, 0, 1, 0, 0, 0,\n",
       "       0, 0, 0, 0, 0, 0, 0, 0, 0, 0, 0, 0, 0, 0, 0, 0, 0, 0, 0, 0, 0, 0,\n",
       "       0, 0], dtype=int64)"
      ]
     },
     "execution_count": 30,
     "metadata": {},
     "output_type": "execute_result"
    }
   ],
   "source": [
    "xtest[0]"
   ]
  },
  {
   "cell_type": "code",
   "execution_count": 31,
   "metadata": {},
   "outputs": [
    {
     "data": {
      "text/plain": [
       "0.9659192825112107"
      ]
     },
     "execution_count": 31,
     "metadata": {},
     "output_type": "execute_result"
    }
   ],
   "source": [
    "from sklearn.metrics import accuracy_score\n",
    "accuracy_score(ytest,ypred)"
   ]
  },
  {
   "cell_type": "code",
   "execution_count": 32,
   "metadata": {},
   "outputs": [],
   "source": [
    "def check():\n",
    "    y1=[]\n",
    "    for i in range(0,5):\n",
    "        y1.append(ypred[i].tolist())\n",
    "        print(corpus[i])\n",
    "        if y1[i]==1:\n",
    "            print('spam')\n",
    "        else:\n",
    "            print('ham')"
   ]
  },
  {
   "cell_type": "code",
   "execution_count": 33,
   "metadata": {},
   "outputs": [
    {
     "name": "stdout",
     "output_type": "stream",
     "text": [
      "go jurong point crazi avail bugi n great world la e buffet cine got amor wat\n",
      "ham\n",
      "ok lar joke wif u oni\n",
      "ham\n",
      "free entri wkli comp win fa cup final tkt st may text fa receiv entri question std txt rate c appli\n",
      "ham\n",
      "u dun say earli hor u c alreadi say\n",
      "ham\n",
      "nah think goe usf live around though\n",
      "ham\n"
     ]
    }
   ],
   "source": [
    "check()"
   ]
  },
  {
   "cell_type": "markdown",
   "metadata": {},
   "source": [
    "## 2. Decision tree"
   ]
  },
  {
   "cell_type": "code",
   "execution_count": 34,
   "metadata": {},
   "outputs": [
    {
     "data": {
      "text/plain": [
       "DecisionTreeClassifier(class_weight=None, criterion='gini', max_depth=None,\n",
       "                       max_features=None, max_leaf_nodes=None,\n",
       "                       min_impurity_decrease=0.0, min_impurity_split=None,\n",
       "                       min_samples_leaf=1, min_samples_split=2,\n",
       "                       min_weight_fraction_leaf=0.0, presort=False,\n",
       "                       random_state=None, splitter='best')"
      ]
     },
     "execution_count": 34,
     "metadata": {},
     "output_type": "execute_result"
    }
   ],
   "source": [
    "from sklearn.tree import DecisionTreeClassifier\n",
    "classifier=DecisionTreeClassifier()\n",
    "classifier.fit(xtrain,ytrain)"
   ]
  },
  {
   "cell_type": "code",
   "execution_count": 35,
   "metadata": {},
   "outputs": [],
   "source": [
    "ypred=classifier.predict(xtest)"
   ]
  },
  {
   "cell_type": "code",
   "execution_count": 36,
   "metadata": {},
   "outputs": [
    {
     "data": {
      "text/plain": [
       "0.9713004484304932"
      ]
     },
     "execution_count": 36,
     "metadata": {},
     "output_type": "execute_result"
    }
   ],
   "source": [
    "from sklearn.metrics import accuracy_score\n",
    "accuracy_score(ytest,ypred)"
   ]
  },
  {
   "cell_type": "markdown",
   "metadata": {},
   "source": [
    "## Neutral Network"
   ]
  },
  {
   "cell_type": "code",
   "execution_count": 208,
   "metadata": {},
   "outputs": [],
   "source": [
    "from keras.models import Sequential\n",
    "from keras.layers import Dense\n",
    "model= Sequential()"
   ]
  },
  {
   "cell_type": "code",
   "execution_count": 209,
   "metadata": {},
   "outputs": [],
   "source": [
    "model.add(Dense(128,activation = 'relu', input_dim = 200))\n",
    "\n",
    "# Adding the second hidden layer\n",
    "model.add(Dense(32,activation = 'relu'))\n",
    "model.add(Dense(16,activation = 'relu'))\n",
    "\n",
    "# Adding the output layer\n",
    "model.add(Dense(2,activation = 'softmax'))"
   ]
  },
  {
   "cell_type": "code",
   "execution_count": 210,
   "metadata": {},
   "outputs": [
    {
     "name": "stdout",
     "output_type": "stream",
     "text": [
      "Model: \"sequential_21\"\n",
      "_________________________________________________________________\n",
      "Layer (type)                 Output Shape              Param #   \n",
      "=================================================================\n",
      "dense_80 (Dense)             (None, 128)               25728     \n",
      "_________________________________________________________________\n",
      "dense_81 (Dense)             (None, 32)                4128      \n",
      "_________________________________________________________________\n",
      "dense_82 (Dense)             (None, 16)                528       \n",
      "_________________________________________________________________\n",
      "dense_83 (Dense)             (None, 2)                 34        \n",
      "=================================================================\n",
      "Total params: 30,418\n",
      "Trainable params: 30,418\n",
      "Non-trainable params: 0\n",
      "_________________________________________________________________\n"
     ]
    }
   ],
   "source": [
    "model.summary()"
   ]
  },
  {
   "cell_type": "code",
   "execution_count": 211,
   "metadata": {},
   "outputs": [],
   "source": [
    "from keras.optimizers import Adam\n",
    "adam=Adam(lr=1e-3)"
   ]
  },
  {
   "cell_type": "code",
   "execution_count": 212,
   "metadata": {},
   "outputs": [],
   "source": [
    "model.compile(optimizer = adam, loss = 'binary_crossentropy', metrics = ['accuracy'])"
   ]
  },
  {
   "cell_type": "code",
   "execution_count": 217,
   "metadata": {},
   "outputs": [
    {
     "name": "stdout",
     "output_type": "stream",
     "text": [
      "Train on 4457 samples, validate on 1115 samples\n",
      "Epoch 1/50\n",
      "4457/4457 [==============================] - 1s 230us/step - loss: 0.0111 - acc: 0.9973 - val_loss: 0.1941 - val_acc: 0.9794\n",
      "Epoch 2/50\n",
      "4457/4457 [==============================] - 1s 232us/step - loss: 0.0114 - acc: 0.9971 - val_loss: 0.2850 - val_acc: 0.9731\n",
      "Epoch 3/50\n",
      "4457/4457 [==============================] - 1s 265us/step - loss: 0.0150 - acc: 0.9960 - val_loss: 0.2397 - val_acc: 0.9785\n",
      "Epoch 4/50\n",
      "4457/4457 [==============================] - 1s 248us/step - loss: 0.0179 - acc: 0.9962 - val_loss: 0.2070 - val_acc: 0.9785\n",
      "Epoch 5/50\n",
      "4457/4457 [==============================] - 1s 265us/step - loss: 0.0106 - acc: 0.9973 - val_loss: 0.2227 - val_acc: 0.9776\n",
      "Epoch 6/50\n",
      "4457/4457 [==============================] - 2s 382us/step - loss: 0.0106 - acc: 0.9973 - val_loss: 0.2173 - val_acc: 0.9776\n",
      "Epoch 7/50\n",
      "4457/4457 [==============================] - 2s 479us/step - loss: 0.0105 - acc: 0.9973 - val_loss: 0.2203 - val_acc: 0.9776\n",
      "Epoch 8/50\n",
      "4457/4457 [==============================] - 2s 377us/step - loss: 0.0106 - acc: 0.9973 - val_loss: 0.2211 - val_acc: 0.9785\n",
      "Epoch 9/50\n",
      "4457/4457 [==============================] - 2s 476us/step - loss: 0.0106 - acc: 0.9973 - val_loss: 0.2236 - val_acc: 0.9776\n",
      "Epoch 10/50\n",
      "4457/4457 [==============================] - 1s 225us/step - loss: 0.0105 - acc: 0.9973 - val_loss: 0.2276 - val_acc: 0.9785\n",
      "Epoch 11/50\n",
      "4457/4457 [==============================] - 1s 221us/step - loss: 0.0105 - acc: 0.9973 - val_loss: 0.2321 - val_acc: 0.9776\n",
      "Epoch 12/50\n",
      "4457/4457 [==============================] - 1s 224us/step - loss: 0.0107 - acc: 0.9973 - val_loss: 0.2297 - val_acc: 0.9767\n",
      "Epoch 13/50\n",
      "4457/4457 [==============================] - 1s 224us/step - loss: 0.0107 - acc: 0.9973 - val_loss: 0.2242 - val_acc: 0.9776\n",
      "Epoch 14/50\n",
      "4457/4457 [==============================] - 1s 222us/step - loss: 0.0106 - acc: 0.9973 - val_loss: 0.2274 - val_acc: 0.9776\n",
      "Epoch 15/50\n",
      "4457/4457 [==============================] - 1s 224us/step - loss: 0.0105 - acc: 0.9973 - val_loss: 0.2385 - val_acc: 0.9776\n",
      "Epoch 16/50\n",
      "4457/4457 [==============================] - 1s 224us/step - loss: 0.0109 - acc: 0.9973 - val_loss: 0.2313 - val_acc: 0.9785\n",
      "Epoch 17/50\n",
      "4457/4457 [==============================] - 1s 221us/step - loss: 0.0106 - acc: 0.9973 - val_loss: 0.2344 - val_acc: 0.9776\n",
      "Epoch 18/50\n",
      "4457/4457 [==============================] - 1s 225us/step - loss: 0.0104 - acc: 0.9973 - val_loss: 0.2369 - val_acc: 0.9767\n",
      "Epoch 19/50\n",
      "4457/4457 [==============================] - 1s 276us/step - loss: 0.0106 - acc: 0.9973 - val_loss: 0.2249 - val_acc: 0.9785\n",
      "Epoch 20/50\n",
      "4457/4457 [==============================] - 2s 449us/step - loss: 0.0107 - acc: 0.9973 - val_loss: 0.2198 - val_acc: 0.9794\n",
      "Epoch 21/50\n",
      "4457/4457 [==============================] - 2s 474us/step - loss: 0.0107 - acc: 0.9973 - val_loss: 0.2222 - val_acc: 0.9785\n",
      "Epoch 22/50\n",
      "4457/4457 [==============================] - 2s 461us/step - loss: 0.0106 - acc: 0.9973 - val_loss: 0.2280 - val_acc: 0.9776\n",
      "Epoch 23/50\n",
      "4457/4457 [==============================] - 1s 225us/step - loss: 0.0105 - acc: 0.9973 - val_loss: 0.2370 - val_acc: 0.9758\n",
      "Epoch 24/50\n",
      "4457/4457 [==============================] - 1s 225us/step - loss: 0.0106 - acc: 0.9973 - val_loss: 0.2209 - val_acc: 0.9776\n",
      "Epoch 25/50\n",
      "4457/4457 [==============================] - 2s 402us/step - loss: 0.0108 - acc: 0.9973 - val_loss: 0.2229 - val_acc: 0.9785\n",
      "Epoch 26/50\n",
      "4457/4457 [==============================] - 2s 382us/step - loss: 0.0108 - acc: 0.9973 - val_loss: 0.2196 - val_acc: 0.9785\n",
      "Epoch 27/50\n",
      "4457/4457 [==============================] - 2s 403us/step - loss: 0.0105 - acc: 0.9973 - val_loss: 0.2378 - val_acc: 0.9758\n",
      "Epoch 28/50\n",
      "4457/4457 [==============================] - 2s 523us/step - loss: 0.0106 - acc: 0.9973 - val_loss: 0.2309 - val_acc: 0.9758\n",
      "Epoch 29/50\n",
      "4457/4457 [==============================] - 2s 494us/step - loss: 0.0105 - acc: 0.9973 - val_loss: 0.2228 - val_acc: 0.9749\n",
      "Epoch 30/50\n",
      "4457/4457 [==============================] - 2s 501us/step - loss: 0.0108 - acc: 0.9973 - val_loss: 0.2224 - val_acc: 0.9749\n",
      "Epoch 31/50\n",
      "4457/4457 [==============================] - 2s 494us/step - loss: 0.0105 - acc: 0.9973 - val_loss: 0.2413 - val_acc: 0.9758\n",
      "Epoch 32/50\n",
      "4457/4457 [==============================] - 2s 348us/step - loss: 0.0108 - acc: 0.9973 - val_loss: 0.2289 - val_acc: 0.9767\n",
      "Epoch 33/50\n",
      "4457/4457 [==============================] - 2s 433us/step - loss: 0.0106 - acc: 0.9973 - val_loss: 0.2410 - val_acc: 0.9767\n",
      "Epoch 34/50\n",
      "4457/4457 [==============================] - 2s 498us/step - loss: 0.0107 - acc: 0.9973 - val_loss: 0.2236 - val_acc: 0.9785\n",
      "Epoch 35/50\n",
      "4457/4457 [==============================] - 2s 502us/step - loss: 0.0104 - acc: 0.9973 - val_loss: 0.2439 - val_acc: 0.9758\n",
      "Epoch 36/50\n",
      "4457/4457 [==============================] - 2s 501us/step - loss: 0.0105 - acc: 0.9973 - val_loss: 0.2324 - val_acc: 0.9758\n",
      "Epoch 37/50\n",
      "4457/4457 [==============================] - 2s 501us/step - loss: 0.0106 - acc: 0.9973 - val_loss: 0.2435 - val_acc: 0.9740\n",
      "Epoch 38/50\n",
      "4457/4457 [==============================] - 2s 498us/step - loss: 0.0105 - acc: 0.9973 - val_loss: 0.2460 - val_acc: 0.9749\n",
      "Epoch 39/50\n",
      "4457/4457 [==============================] - 1s 325us/step - loss: 0.0106 - acc: 0.9973 - val_loss: 0.2287 - val_acc: 0.9758\n",
      "Epoch 40/50\n",
      "4457/4457 [==============================] - 2s 497us/step - loss: 0.0106 - acc: 0.9973 - val_loss: 0.2271 - val_acc: 0.9767\n",
      "Epoch 41/50\n",
      "4457/4457 [==============================] - 2s 502us/step - loss: 0.0105 - acc: 0.9973 - val_loss: 0.2374 - val_acc: 0.9749\n",
      "Epoch 42/50\n",
      "4457/4457 [==============================] - 1s 281us/step - loss: 0.0106 - acc: 0.9973 - val_loss: 0.2558 - val_acc: 0.9740\n",
      "Epoch 43/50\n",
      "4457/4457 [==============================] - 2s 440us/step - loss: 0.0104 - acc: 0.9973 - val_loss: 0.2461 - val_acc: 0.9740\n",
      "Epoch 44/50\n",
      "4457/4457 [==============================] - 2s 525us/step - loss: 0.0111 - acc: 0.9973 - val_loss: 0.2485 - val_acc: 0.9749\n",
      "Epoch 45/50\n",
      "4457/4457 [==============================] - 2s 497us/step - loss: 0.0104 - acc: 0.9973 - val_loss: 0.2578 - val_acc: 0.9740\n",
      "Epoch 46/50\n",
      "4457/4457 [==============================] - 2s 498us/step - loss: 0.0105 - acc: 0.9973 - val_loss: 0.2481 - val_acc: 0.9767\n",
      "Epoch 47/50\n",
      "4457/4457 [==============================] - 1s 332us/step - loss: 0.0104 - acc: 0.9973 - val_loss: 0.2454 - val_acc: 0.9767\n",
      "Epoch 48/50\n",
      "4457/4457 [==============================] - 2s 442us/step - loss: 0.0105 - acc: 0.9973 - val_loss: 0.2480 - val_acc: 0.9758\n",
      "Epoch 49/50\n",
      "4457/4457 [==============================] - 2s 442us/step - loss: 0.0103 - acc: 0.9973 - val_loss: 0.2593 - val_acc: 0.9740\n",
      "Epoch 50/50\n",
      "4457/4457 [==============================] - 1s 322us/step - loss: 0.0107 - acc: 0.9973 - val_loss: 0.2562 - val_acc: 0.9749\n"
     ]
    }
   ],
   "source": [
    "fit=model.fit(xtrain, y_c ,batch_size = 16, epochs = 50,validation_data=(xtest,ytest_c))"
   ]
  },
  {
   "cell_type": "code",
   "execution_count": 218,
   "metadata": {},
   "outputs": [],
   "source": [
    "import matplotlib.pyplot as plt"
   ]
  },
  {
   "cell_type": "code",
   "execution_count": 219,
   "metadata": {},
   "outputs": [
    {
     "data": {
      "image/png": "[encoded data removed]",
      "text/plain": [
       "<Figure size 432x288 with 1 Axes>"
      ]
     },
     "metadata": {
      "needs_background": "light"
     },
     "output_type": "display_data"
    }
   ],
   "source": [
    "plt.plot(fit.history['loss'],label='training_loss')\n",
    "plt.plot(fit.history['val_loss'],label='validation_loss')\n",
    "plt.legend()\n",
    "plt.show()"
   ]
  },
  {
   "cell_type": "code",
   "execution_count": 220,
   "metadata": {},
   "outputs": [
    {
     "data": {
      "image/png": "[encoded data removed]",
      "text/plain": [
       "<Figure size 432x288 with 1 Axes>"
      ]
     },
     "metadata": {
      "needs_background": "light"
     },
     "output_type": "display_data"
    }
   ],
   "source": [
    "plt.plot(fit.history['acc'],label='acc')\n",
    "plt.plot(fit.history['val_acc'],label='validation_acc')\n",
    "plt.legend()\n",
    "plt.show()"
   ]
  },
  {
   "cell_type": "code",
   "execution_count": 221,
   "metadata": {},
   "outputs": [],
   "source": [
    "#ypred=model.predict(test)"
   ]
  },
  {
   "cell_type": "code",
   "execution_count": null,
   "metadata": {},
   "outputs": [],
   "source": []
  }
 ],
 "metadata": {
  "kernelspec": {
   "display_name": "Python 3",
   "language": "python",
   "name": "python3"
  },
  "language_info": {
   "codemirror_mode": {
    "name": "ipython",
    "version": 3
   },
   "file_extension": ".py",
   "mimetype": "text/x-python",
   "name": "python",
   "nbconvert_exporter": "python",
   "pygments_lexer": "ipython3",
   "version": "3.6.7"
  }
 },
 "nbformat": 4,
 "nbformat_minor": 2
}
